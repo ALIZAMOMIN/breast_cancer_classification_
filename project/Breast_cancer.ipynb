{
 "cells": [
  {
   "cell_type": "code",
   "execution_count": 27,
   "metadata": {
    "executionInfo": {
     "elapsed": 677,
     "status": "ok",
     "timestamp": 1736088655366,
     "user": {
      "displayName": "Aliza Momin",
      "userId": "13658428843292200026"
     },
     "user_tz": -330
    },
    "id": "sZjjBCShuqqI"
   },
   "outputs": [],
   "source": [
    "import  pandas as pd\n",
    "from sklearn.datasets import load_breast_cancer\n",
    "from sklearn.svm import SVC\n"
   ]
  },
  {
   "cell_type": "code",
   "execution_count": 9,
   "metadata": {
    "executionInfo": {
     "elapsed": 17,
     "status": "ok",
     "timestamp": 1736085360909,
     "user": {
      "displayName": "Aliza Momin",
      "userId": "13658428843292200026"
     },
     "user_tz": -330
    },
    "id": "x27iPGF-v_bB"
   },
   "outputs": [],
   "source": [
    "bc = load_breast_cancer()\n",
    "df=pd.DataFrame(data=bc.data, columns=bc.feature_names)\n",
    "y=pd.DataFrame(data=bc.target)\n"
   ]
  },
  {
   "cell_type": "code",
   "execution_count": null,
   "metadata": {
    "id": "fJcC6qPCwBSQ"
   },
   "outputs": [],
   "source": []
  },
  {
   "cell_type": "code",
   "execution_count": 20,
   "metadata": {
    "executionInfo": {
     "elapsed": 417,
     "status": "ok",
     "timestamp": 1736088268554,
     "user": {
      "displayName": "Aliza Momin",
      "userId": "13658428843292200026"
     },
     "user_tz": -330
    },
    "id": "G-xl9isKwhJD"
   },
   "outputs": [],
   "source": [
    "#print(df.columns)\n",
    "#print(len(df.columns))\n",
    "\n",
    "\n"
   ]
  }
 ],
 "metadata": {
  "colab": {
   "authorship_tag": "ABX9TyOAkZScn35r8EeS/EP1jjPU",
   "provenance": []
  },
  "kernelspec": {
   "display_name": "Python 3 (ipykernel)",
   "language": "python",
   "name": "python3"
  },
  "language_info": {
   "codemirror_mode": {
    "name": "ipython",
    "version": 3
   },
   "file_extension": ".py",
   "mimetype": "text/x-python",
   "name": "python",
   "nbconvert_exporter": "python",
   "pygments_lexer": "ipython3",
   "version": "3.13.1"
  }
 },
 "nbformat": 4,
 "nbformat_minor": 4
}
